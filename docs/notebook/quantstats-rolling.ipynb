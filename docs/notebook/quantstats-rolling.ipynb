{
 "cells": [
  {
   "cell_type": "code",
   "execution_count": 3,
   "id": "47d0d57f",
   "metadata": {},
   "outputs": [
    {
     "name": "stdout",
     "output_type": "stream",
     "text": [
      "可计算的全部指标： ['adjusted_sortino', 'autocorr_penalty', 'avg_loss', 'avg_return', 'avg_win', 'best', 'cagr', 'calmar', 'common_sense_ratio', 'comp', 'compare', 'compsum', 'conditional_value_at_risk', 'consecutive_losses', 'consecutive_wins', 'cpc_index', 'cvar', 'distribution', 'drawdown_details', 'expected_return', 'expected_shortfall', 'exposure', 'gain_to_pain_ratio', 'geometric_mean', 'ghpr', 'greeks', 'implied_volatility', 'information_ratio', 'kelly_criterion', 'kurtosis', 'max_drawdown', 'monthly_returns', 'omega', 'outlier_loss_ratio', 'outlier_win_ratio', 'outliers', 'payoff_ratio', 'pct_rank', 'probabilistic_adjusted_sortino_ratio', 'probabilistic_ratio', 'probabilistic_sharpe_ratio', 'probabilistic_sortino_ratio', 'profit_factor', 'profit_ratio', 'r2', 'r_squared', 'rar', 'recovery_factor', 'remove_outliers', 'risk_of_ruin', 'risk_return_ratio', 'rolling_greeks', 'rolling_sharpe', 'rolling_sortino', 'rolling_volatility', 'ror', 'serenity_index', 'sharpe', 'skew', 'smart_sharpe', 'smart_sortino', 'sortino', 'tail_ratio', 'to_drawdown_series', 'treynor_ratio', 'ulcer_index', 'ulcer_performance_index', 'upi', 'value_at_risk', 'var', 'volatility', 'warn', 'win_loss_ratio', 'win_rate', 'worst']\n",
      "可用于绘图的全部指标： ['adjusted_sortino', 'autocorr_penalty', 'avg_loss', 'avg_return', 'avg_win', 'best', 'cagr', 'calmar', 'common_sense_ratio', 'comp', 'compare', 'compsum', 'conditional_value_at_risk', 'consecutive_losses', 'consecutive_wins', 'cpc_index', 'cvar', 'distribution', 'drawdown_details', 'expected_return', 'expected_shortfall', 'exposure', 'gain_to_pain_ratio', 'geometric_mean', 'ghpr', 'greeks', 'implied_volatility', 'information_ratio', 'kelly_criterion', 'kurtosis', 'max_drawdown', 'monthly_returns', 'omega', 'outlier_loss_ratio', 'outlier_win_ratio', 'outliers', 'payoff_ratio', 'pct_rank', 'probabilistic_adjusted_sortino_ratio', 'probabilistic_ratio', 'probabilistic_sharpe_ratio', 'probabilistic_sortino_ratio', 'profit_factor', 'profit_ratio', 'r2', 'r_squared', 'rar', 'recovery_factor', 'remove_outliers', 'risk_of_ruin', 'risk_return_ratio', 'rolling_greeks', 'rolling_sharpe', 'rolling_sortino', 'rolling_volatility', 'ror', 'serenity_index', 'sharpe', 'skew', 'smart_sharpe', 'smart_sortino', 'sortino', 'tail_ratio', 'to_drawdown_series', 'treynor_ratio', 'ulcer_index', 'ulcer_performance_index', 'upi', 'value_at_risk', 'var', 'volatility', 'warn', 'win_loss_ratio', 'win_rate', 'worst']\n"
     ]
    },
    {
     "data": {
      "text/html": [
       "\n",
       "        <iframe\n",
       "            width=\"1000\"\n",
       "            height=\"600\"\n",
       "            src=\"my_quant_stats.html\"\n",
       "            frameborder=\"0\"\n",
       "            allowfullscreen\n",
       "            \n",
       "        ></iframe>\n",
       "        "
      ],
      "text/plain": [
       "<IPython.lib.display.IFrame at 0x7fcd51512100>"
      ]
     },
     "execution_count": 3,
     "metadata": {},
     "output_type": "execute_result"
    }
   ],
   "source": [
    "import quantstats as qs\n",
    "import pandas as pd\n",
    "import numpy as np\n",
    "\n",
    "date_index = pd.date_range(start='2020-01-01 00:00', periods=1000)\n",
    "stock_returns = pd.Series((np.random.random(size=1000) - 0.5) / 10, index=date_index)\n",
    "\n",
    "# 可视化并导出html文件\n",
    "qs.reports.html(stock_returns, output=\"performance.html\", download_filename=\"my_quant_stats.html\")\n",
    "\n",
    "# 指标计算\n",
    "adj_result = qs.stats.adjusted_sortino(stock_returns)\n",
    "\n",
    "# rolling 指标\n",
    "stats_rolling_sharpe = qs.stats.rolling_sharpe(stock_returns, rolling_period=20)\n",
    "\n",
    "# 其他指标\n",
    "stats_monthly_returns = qs.stats.monthly_returns(stock_returns)\n",
    "\n",
    "print(\"可计算的全部指标：\", [f for f in dir(qs.stats) if f[0] != '_'])\n",
    "print(\"可用于绘图的全部指标：\", [f for f in dir(qs.stats) if f[0] != '_'])\n",
    "\n",
    "from IPython.display import IFrame\n",
    "IFrame(src='my_quant_stats.html', width=1000, height=600)"
   ]
  },
  {
   "cell_type": "code",
   "execution_count": 5,
   "id": "34559b54",
   "metadata": {},
   "outputs": [
    {
     "ename": "ModuleNotFoundError",
     "evalue": "No module named 'quant_project'",
     "output_type": "error",
     "traceback": [
      "\u001b[0;31m---------------------------------------------------------------------------\u001b[0m",
      "\u001b[0;31mModuleNotFoundError\u001b[0m                       Traceback (most recent call last)",
      "Input \u001b[0;32mIn [5]\u001b[0m, in \u001b[0;36m<cell line: 3>\u001b[0;34m()\u001b[0m\n\u001b[1;32m      1\u001b[0m \u001b[38;5;28;01mfrom\u001b[39;00m \u001b[38;5;21;01mdagster\u001b[39;00m \u001b[38;5;28;01mimport\u001b[39;00m asset, get_dagster_logger, op, DynamicOut, graph, job, DynamicOutput\n\u001b[0;32m----> 3\u001b[0m \u001b[38;5;28;01mfrom\u001b[39;00m \u001b[38;5;21;01mquant_project\u001b[39;00m\u001b[38;5;21;01m.\u001b[39;00m\u001b[38;5;21;01mdatafeed\u001b[39;00m \u001b[38;5;28;01mimport\u001b[39;00m mongo_utils\n\u001b[1;32m      6\u001b[0m \u001b[38;5;129m@op\u001b[39m(out\u001b[38;5;241m=\u001b[39mDynamicOut())\n\u001b[1;32m      7\u001b[0m \u001b[38;5;28;01mdef\u001b[39;00m \u001b[38;5;21mload_bondlist\u001b[39m():\n\u001b[1;32m      8\u001b[0m     cols \u001b[38;5;241m=\u001b[39m [\u001b[38;5;124m'\u001b[39m\u001b[38;5;124mcode\u001b[39m\u001b[38;5;124m'\u001b[39m, \u001b[38;5;124m'\u001b[39m\u001b[38;5;124mbond_short_name\u001b[39m\u001b[38;5;124m'\u001b[39m, \u001b[38;5;124m'\u001b[39m\u001b[38;5;124mstk_code\u001b[39m\u001b[38;5;124m'\u001b[39m, \u001b[38;5;124m'\u001b[39m\u001b[38;5;124mlist_date\u001b[39m\u001b[38;5;124m'\u001b[39m, \u001b[38;5;124m'\u001b[39m\u001b[38;5;124mdelist_date\u001b[39m\u001b[38;5;124m'\u001b[39m]\n",
      "\u001b[0;31mModuleNotFoundError\u001b[0m: No module named 'quant_project'"
     ]
    }
   ],
   "source": [
    "from dagster import asset, get_dagster_logger, op, DynamicOut, graph, job, DynamicOutput\n",
    "\n",
    "from qbot.engine.datafeed import mongo_utils\n",
    "\n",
    "\n",
    "@op(out=DynamicOut())\n",
    "def load_bondlist():\n",
    "    cols = ['code', 'bond_short_name', 'stk_code', 'list_date', 'delist_date']\n",
    "    filters = {col: 1 for col in cols}\n",
    "    filters['_id'] = 0\n",
    "    items = mongo_utils.get_db()['cb_basic'].find({}, filters)\n",
    "    items = list(items)\n",
    "    items = ['1', '2', '3']\n",
    "    for idx, item in enumerate(items):\n",
    "        yield DynamicOutput(item, mapping_key=str(idx))\n",
    "\n",
    "\n",
    "@op\n",
    "def update_factor_chg(item):\n",
    "    print('step...')\n",
    "    return item\n",
    "\n",
    "\n",
    "@op(name='update_close')\n",
    "def update_factor_close(item):\n",
    "    print(item)\n",
    "    return item\n",
    "\n",
    "\n",
    "@graph\n",
    "def task_graph(item):\n",
    "    update_factor_close(item)\n",
    "    results = update_factor_chg(item)\n",
    "    return results\n",
    "\n",
    "\n",
    "@op\n",
    "def merge_datas(results):\n",
    "    print('merging...')\n",
    "\n",
    "\n",
    "@job\n",
    "def cb_task_job():\n",
    "    bonds = load_bondlist()\n",
    "    results = bonds.map(task_graph)\n",
    "    print(results.collect())\n",
    "    merge_datas(results.collect())\n",
    "\n",
    "\n",
    "one_code_job = task_graph.to_job('task_graph_job')\n",
    "\n",
    "if __name__ == \"__main__\":\n",
    "    result = cb_task_job.execute_in_process()"
   ]
  },
  {
   "cell_type": "code",
   "execution_count": null,
   "id": "08661162",
   "metadata": {},
   "outputs": [],
   "source": []
  }
 ],
 "metadata": {
  "kernelspec": {
   "display_name": "Python 3 (ipykernel)",
   "language": "python",
   "name": "python3"
  },
  "language_info": {
   "codemirror_mode": {
    "name": "ipython",
    "version": 3
   },
   "file_extension": ".py",
   "mimetype": "text/x-python",
   "name": "python",
   "nbconvert_exporter": "python",
   "pygments_lexer": "ipython3",
   "version": "3.9.12"
  }
 },
 "nbformat": 4,
 "nbformat_minor": 5
}
